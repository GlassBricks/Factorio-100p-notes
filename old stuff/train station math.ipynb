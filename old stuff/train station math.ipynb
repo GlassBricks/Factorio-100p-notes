{
 "cells": [
  {
   "cell_type": "markdown",
   "id": "83e8f4de10ca3e69",
   "metadata": {},
   "source": [
    "# Math to determine how far outposts can be.\n",
    "\n",
    "Let:\n",
    "- W be wagon capacity\n",
    "- r be target throughput (rate)\n",
    "- n be number of trains\n",
    "- r_u be unload rate\n",
    "\n",
    "These we can control."
   ]
  },
  {
   "cell_type": "code",
   "execution_count": 1,
   "id": "initial_id",
   "metadata": {
    "ExecuteTime": {
     "end_time": "2023-11-20T19:38:54.162886773Z",
     "start_time": "2023-11-20T19:38:53.901988897Z"
    }
   },
   "outputs": [],
   "source": [
    "from typing import Iterable\n",
    "\n",
    "from sympy import *\n",
    "\n",
    "from focus import focus\n",
    "\n",
    "init_printing()\n"
   ]
  },
  {
   "cell_type": "code",
   "execution_count": 2,
   "id": "d25bb11dd460e044",
   "metadata": {
    "ExecuteTime": {
     "end_time": "2023-11-20T19:38:54.163497729Z",
     "start_time": "2023-11-20T19:38:54.086451948Z"
    }
   },
   "outputs": [],
   "source": [
    "# setup equations\n",
    "global_eqs: set[Eq] = set()"
   ]
  },
  {
   "cell_type": "code",
   "execution_count": 3,
   "id": "edf6ca6043520928",
   "metadata": {
    "ExecuteTime": {
     "end_time": "2023-11-20T19:38:54.163682979Z",
     "start_time": "2023-11-20T19:38:54.089194353Z"
    }
   },
   "outputs": [],
   "source": [
    "import re\n",
    "\n",
    "\n",
    "def get_eq(s: str) -> Eq:\n",
    "    if '<' in s or '>' in s:\n",
    "        # get left, rel, right\n",
    "        t = re.split(r'((?:<|>)=?)', s)\n",
    "        print(t)\n",
    "        left, rel, right = t\n",
    "        s = Rel(sympify(left), sympify(right), rel)\n",
    "    elif '=' in s:\n",
    "        left, right = s.split('=')\n",
    "        s = Eq(sympify(left), sympify(right))\n",
    "    else:\n",
    "        raise ValueError(f'Invalid equation: {s}')\n",
    "    pprint(s)\n",
    "    return s\n",
    "\n",
    "\n",
    "def get_eqs(*strs: str) -> list[Eq]:\n",
    "    return [get_eq(s) for s in strs]\n",
    "\n",
    "\n",
    "def add_eq(s: str) -> Eq:\n",
    "    result = get_eq(s)\n",
    "    global_eqs.add(result)\n",
    "    return result\n",
    "\n"
   ]
  },
  {
   "cell_type": "markdown",
   "id": "65cb18c4f845d252",
   "metadata": {},
   "source": [
    "Define some other values:\n",
    "- Let t_u be time to unload: t_u = W / r_u\n",
    "- Let C be cycle time (time for train to go to outpost and back).\n",
    "- Cycle time consists of traveling time (T) and time unloading (t_u). T + t_u equals _half_ the cycle time (one way). We also add some constant factor for trains needing to slow down and acceleration (t_k).\n",
    "\n",
    "Our goal is to find "
   ]
  },
  {
   "cell_type": "code",
   "execution_count": 4,
   "id": "a596d61bca40120",
   "metadata": {
    "ExecuteTime": {
     "end_time": "2023-11-20T19:38:54.571384723Z",
     "start_time": "2023-11-20T19:38:54.095652490Z"
    }
   },
   "outputs": [
    {
     "name": "stdout",
     "output_type": "stream",
     "text": [
      "     W \n",
      "tᵤ = ──\n",
      "     rᵤ\n",
      "C = 2⋅T + 2⋅tᵤ\n"
     ]
    },
    {
     "data": {
      "image/png": "[encoded data removed]",
      "text/latex": [
       "$\\displaystyle C = 2 T + 2 t_{u}$"
      ],
      "text/plain": [
       "C = 2⋅T + 2⋅tᵤ"
      ]
     },
     "execution_count": 4,
     "metadata": {},
     "output_type": "execute_result"
    }
   ],
   "source": [
    "add_eq(\"t_u=W/r_u\")\n",
    "add_eq(\"C=2*(T+t_u)\")\n"
   ]
  },
  {
   "cell_type": "code",
   "execution_count": 5,
   "id": "decc3ab8623c5f77",
   "metadata": {
    "ExecuteTime": {
     "end_time": "2023-11-20T19:38:54.576120217Z",
     "start_time": "2023-11-20T19:38:54.573533772Z"
    }
   },
   "outputs": [],
   "source": [
    "free = ['t_u', 'C']\n",
    "\n",
    "\n",
    "# helper to solve for a variable\n",
    "def solvev(syms, *extra_eqs, **kwargs):\n",
    "    if not isinstance(syms, Iterable):\n",
    "        sym_set = {Symbol(syms)}\n",
    "    else:\n",
    "        sym_set = {Symbol(s) if isinstance(s, str) else s for s in syms}\n",
    "    all_eqs = global_eqs | set(extra_eqs)\n",
    "    all_syms = Tuple(*all_eqs).free_symbols\n",
    "    all_free = (set(symbols(free)) | sym_set) & all_syms\n",
    "    res = focus(all_eqs, *all_free, **kwargs)\n",
    "    if isinstance(res, dict):\n",
    "        res = {\n",
    "            sym.name: simplify(Eq(sym, sol))\n",
    "            for sym, sol in res.items()\n",
    "            if sym in sym_set\n",
    "        }\n",
    "        if len(res) == 1:\n",
    "            return next(iter(res.values()))\n",
    "    return res\n"
   ]
  },
  {
   "cell_type": "markdown",
   "id": "bd02788bf0e9eac1",
   "metadata": {},
   "source": [
    "## Max outpost distance\n",
    "\n",
    "To meet our target throughput, we need items delivery rate to match: r = (W/C) * n; throughput per train * num trains\n"
   ]
  },
  {
   "cell_type": "code",
   "execution_count": 6,
   "id": "5093fb4e99587036",
   "metadata": {
    "ExecuteTime": {
     "end_time": "2023-11-20T19:38:54.635012605Z",
     "start_time": "2023-11-20T19:38:54.575796969Z"
    },
    "scrolled": true
   },
   "outputs": [
    {
     "name": "stdout",
     "output_type": "stream",
     "text": [
      "    W⋅n\n",
      "r = ───\n",
      "     C \n",
      "    W⋅n   W \n",
      "T = ─── - ──\n",
      "    2⋅r   rᵤ\n"
     ]
    }
   ],
   "source": [
    "target_throughput = get_eq(\"r=n*W/C\")\n",
    "pprint(solvev('T', target_throughput))\n",
    "# result:\n",
    "# T = W( n/2r - 1/r_u) )\n"
   ]
  },
  {
   "cell_type": "markdown",
   "id": "169d4b9f329b0067",
   "metadata": {},
   "source": [
    "What this shows:\n",
    "- Increasing wagon capacity (more wagons, or on site smelting) almost directly increases Travel time (minus a constant factor).\n",
    "- Increasing unload rate has quickly diminishing returns (1/r_u).\n",
    "- More trains is very slightly better than more wagons directly, until you are not able to unload fast enough."
   ]
  },
  {
   "cell_type": "markdown",
   "id": "d891c6ca2564d0d5",
   "metadata": {},
   "source": [
    "# Only 1 train unloading: \n",
    "To ensure that there's only ever 1 train unloading at a time.\n",
    "Let v be average number of trains loading at any given time.\n",
    "Trains spend (2t_u/C) of their time loading. There are 2 loading stations, n trains, so n*(2t_u/C) <= 2:"
   ]
  },
  {
   "cell_type": "code",
   "execution_count": 7,
   "id": "f414d328360e868c",
   "metadata": {
    "ExecuteTime": {
     "end_time": "2023-11-20T19:38:54.700128829Z",
     "start_time": "2023-11-20T19:38:54.655584715Z"
    }
   },
   "outputs": [
    {
     "name": "stdout",
     "output_type": "stream",
     "text": [
      "n⋅tᵤ    \n",
      "──── = v\n",
      " C      \n",
      "n = 0\n",
      "r = rᵤ⋅v\n"
     ]
    }
   ],
   "source": [
    "eq = get_eq(\"n*t_u/C=v\")\n",
    "res = solvev('n', eq, target_throughput)\n",
    "pprint(res)\n",
    "\n",
    "pprint(solvev('r', eq, target_throughput))\n",
    "# \n",
    "# min_r = solve(res, 'r_u')[0]\n",
    "# pprint(min_r)\n",
    "# \n",
    "# min_r_ineq = Eq(Symbol('r_u'), min_r.xreplace({Symbol('T'): max_t.rhs}))\n",
    "# \n",
    "# print(min_r_ineq)\n",
    "# res = solve(min_r_ineq, 'r_u')\n",
    "# pprint(res)\n",
    "\n",
    "# result:\n",
    "# n = r/v\n"
   ]
  },
  {
   "cell_type": "markdown",
   "id": "da3c0af0040f88b3",
   "metadata": {},
   "source": [
    "So, as it turns out, all we need is that the unload rate be larger than the target throughput."
   ]
  },
  {
   "cell_type": "markdown",
   "id": "e4557c6fe99fac8a",
   "metadata": {},
   "source": [
    "# Max distance for 3 trains, 1 shared track\n",
    "\n",
    "With 1 shared track, there can only be one train going along the track any time.\n",
    "So, at best, we have 2 trains loading at each station, and 1 traveling.\n",
    "This makes it about equivalent to only 1 train, with instant unloading.\n",
    "\n",
    "Let's look at T in this case:"
   ]
  },
  {
   "cell_type": "code",
   "execution_count": 8,
   "id": "d60f472eb2a914b9",
   "metadata": {
    "ExecuteTime": {
     "end_time": "2023-11-20T19:38:54.741951147Z",
     "start_time": "2023-11-20T19:38:54.700824155Z"
    }
   },
   "outputs": [
    {
     "name": "stdout",
     "output_type": "stream",
     "text": [
      "rᵤ = ∞\n",
      "n = 1\n",
      "     W \n",
      "T = ───\n",
      "    2⋅r\n"
     ]
    }
   ],
   "source": [
    "eqs = get_eqs(\"r_u = oo\", \"n=1\")\n",
    "\n",
    "res_p2p = solvev(['T'], *eqs, target_throughput)\n",
    "pprint(res_p2p)\n",
    "\n",
    "# result: T = W/2r - k\n"
   ]
  },
  {
   "cell_type": "markdown",
   "id": "1a2fe2d1f31a4c4f",
   "metadata": {},
   "source": [
    "So, the max distance is only a function of train capacity.\n",
    "\n",
    "Comparing to if we had 2 tracks, one for each direction:\n"
   ]
  },
  {
   "cell_type": "code",
   "execution_count": 9,
   "id": "3d93721303208dda",
   "metadata": {
    "ExecuteTime": {
     "end_time": "2023-11-20T19:38:54.786192262Z",
     "start_time": "2023-11-20T19:38:54.741633029Z"
    }
   },
   "outputs": [
    {
     "name": "stdout",
     "output_type": "stream",
     "text": [
      "n = 3\n",
      "      W    3⋅W\n",
      "T = - ── + ───\n",
      "      rᵤ   2⋅r\n",
      "  W    W\n",
      "- ── + ─\n",
      "  rᵤ   r\n"
     ]
    }
   ],
   "source": [
    "eqs = get_eqs(\"n=3\")\n",
    "res_3_train: Eq = solvev(['T'], *eqs, target_throughput)\n",
    "pprint(res_3_train)\n",
    "\n",
    "diff: Expr = res_3_train.rhs - res_p2p.rhs\n",
    "pprint(diff)\n",
    "# result: W (1/r - 1/r_u)"
   ]
  },
  {
   "cell_type": "code",
   "execution_count": 10,
   "id": "d89888d90c4ad439",
   "metadata": {
    "ExecuteTime": {
     "end_time": "2023-11-20T19:38:54.786771289Z",
     "start_time": "2023-11-20T19:38:54.785808984Z"
    }
   },
   "outputs": [],
   "source": [
    "# evaluate that with some realistic numbers\n",
    "sub = {\n",
    "    'W': 40 * 50,\n",
    "    'r': 30,\n",
    "    'r_u': 8 * 4.62,\n",
    "    'n': 3,\n",
    "}"
   ]
  },
  {
   "cell_type": "markdown",
   "id": "7f3e62af756e0c1",
   "metadata": {},
   "source": [
    "# Some evaluations"
   ]
  },
  {
   "cell_type": "code",
   "execution_count": 18,
   "id": "f41389349da80bc",
   "metadata": {
    "ExecuteTime": {
     "end_time": "2023-11-20T19:41:09.573307842Z",
     "start_time": "2023-11-20T19:41:09.518982271Z"
    }
   },
   "outputs": [
    {
     "name": "stdout",
     "output_type": "stream",
     "text": [
      "8 unload inserters per wagon, target 1 red belt per wagon\n",
      "p2p (shared rail):\n",
      "33.3333333333333\n",
      "3 trains, 2 way:\n",
      "45.8874458874459\n",
      "3 trains, 2 way, 10 unload inserters:\n",
      "56.7099567099567\n",
      "2 trains, on-site smelting:\n",
      "25.1082251082251\n",
      "3 trains, on-site:\n",
      "91.7748917748918\n",
      "2 trains, on-site, 10 unload inserters:\n",
      "46.7532467532468\n",
      "3 trains, on-site, 10 unload inserters:\n",
      "113.419913419913\n"
     ]
    }
   ],
   "source": [
    "# p2p\n",
    "print(\"8 unload inserters per wagon, target 1 red belt per wagon\")\n",
    "\n",
    "print(\"p2p (shared rail):\")\n",
    "pprint(res_p2p.rhs.evalf(subs=sub))\n",
    "\n",
    "print(\"3 trains, 2 way:\")\n",
    "pprint(res_3_train.rhs.evalf(subs=sub))\n",
    "\n",
    "print(\"3 trains, 2 way, 10 unload inserters:\")\n",
    "pprint(res_3_train.rhs.evalf(subs={\n",
    "    **sub,\n",
    "    'r_u': 10 * 4.62\n",
    "}))\n",
    "\n",
    "print(\"2 trains, on-site smelting:\")\n",
    "pprint(solvev('T', target_throughput).rhs.evalf(subs={\n",
    "    **sub,\n",
    "    'W': 40 * 100,\n",
    "    'n': 2,\n",
    "}))\n",
    "\n",
    "print(\"3 trains, on-site:\")\n",
    "pprint(solvev('T', target_throughput).rhs.evalf(subs={\n",
    "    **sub,\n",
    "    'W': 40 * 100,\n",
    "    'n': 3,\n",
    "}))\n",
    "\n",
    "print(\"2 trains, on-site, 10 unload inserters:\")\n",
    "pprint(solvev('T', target_throughput).rhs.evalf(subs={\n",
    "    **sub,\n",
    "    'W': 40 * 100,\n",
    "    'n': 2,\n",
    "    'r_u': 10 * 4.62,\n",
    "}))\n",
    "\n",
    "print(\"3 trains, on-site, 10 unload inserters:\")\n",
    "pprint(solvev('T', target_throughput).rhs.evalf(subs={\n",
    "    **sub,\n",
    "    'W': 40 * 100,\n",
    "    'n': 3,\n",
    "    'r_u': 10 * 4.62,\n",
    "}))\n",
    "\n"
   ]
  },
  {
   "cell_type": "markdown",
   "id": "e8bd6615b7e6dbfb",
   "metadata": {},
   "source": [
    "On-site smelting only makes sense if you have at least 10 unload inserters (unload speed >> throughput).\n",
    "Otherwise, with 3 trains, its much more costly and not much benefit, and with 2 trains the distance sucks.\n",
    "\n",
    "TODO: more detailed comparison (full builds, not just outpost distance) with:\n",
    "- On site smelting vs not\n",
    "- Train size (# of wagons). In theory, more is better?\n",
    "- Train amount\n",
    "- number of unload inserters."
   ]
  },
  {
   "cell_type": "code",
   "execution_count": null,
   "id": "8d21657f",
   "metadata": {},
   "outputs": [],
   "source": []
  }
 ],
 "metadata": {
  "kernelspec": {
   "display_name": "Python 3 (ipykernel)",
   "language": "python",
   "name": "python3"
  },
  "language_info": {
   "codemirror_mode": {
    "name": "ipython",
    "version": 3
   },
   "file_extension": ".py",
   "mimetype": "text/x-python",
   "name": "python",
   "nbconvert_exporter": "python",
   "pygments_lexer": "ipython3",
   "version": "3.10.12"
  }
 },
 "nbformat": 4,
 "nbformat_minor": 5
}
